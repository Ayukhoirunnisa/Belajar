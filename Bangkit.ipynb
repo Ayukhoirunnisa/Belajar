{
  "nbformat": 4,
  "nbformat_minor": 0,
  "metadata": {
    "colab": {
      "name": "Bangkit.ipynb",
      "provenance": [],
      "collapsed_sections": [],
      "include_colab_link": true
    },
    "kernelspec": {
      "name": "python3",
      "display_name": "Python 3"
    },
    "language_info": {
      "name": "python"
    },
    "widgets": {
      "application/vnd.jupyter.widget-state+json": {
        "2d480541ff884f6c8ab7d61711f437ce": {
          "model_module": "@jupyter-widgets/controls",
          "model_name": "HBoxModel",
          "state": {
            "_view_name": "HBoxView",
            "_dom_classes": [],
            "_model_name": "HBoxModel",
            "_view_module": "@jupyter-widgets/controls",
            "_model_module_version": "1.5.0",
            "_view_count": null,
            "_view_module_version": "1.5.0",
            "box_style": "",
            "layout": "IPY_MODEL_3816a990aa2e464ebc361579b5c84026",
            "_model_module": "@jupyter-widgets/controls",
            "children": [
              "IPY_MODEL_bcaabffcc589431c8cedc3f1749da8b9",
              "IPY_MODEL_d80dd591ed1446a9bc9da92067654fd4"
            ]
          }
        },
        "3816a990aa2e464ebc361579b5c84026": {
          "model_module": "@jupyter-widgets/base",
          "model_name": "LayoutModel",
          "state": {
            "_view_name": "LayoutView",
            "grid_template_rows": null,
            "right": null,
            "justify_content": null,
            "_view_module": "@jupyter-widgets/base",
            "overflow": null,
            "_model_module_version": "1.2.0",
            "_view_count": null,
            "flex_flow": null,
            "width": null,
            "min_width": null,
            "border": null,
            "align_items": null,
            "bottom": null,
            "_model_module": "@jupyter-widgets/base",
            "top": null,
            "grid_column": null,
            "overflow_y": null,
            "overflow_x": null,
            "grid_auto_flow": null,
            "grid_area": null,
            "grid_template_columns": null,
            "flex": null,
            "_model_name": "LayoutModel",
            "justify_items": null,
            "grid_row": null,
            "max_height": null,
            "align_content": null,
            "visibility": null,
            "align_self": null,
            "height": null,
            "min_height": null,
            "padding": null,
            "grid_auto_rows": null,
            "grid_gap": null,
            "max_width": null,
            "order": null,
            "_view_module_version": "1.2.0",
            "grid_template_areas": null,
            "object_position": null,
            "object_fit": null,
            "grid_auto_columns": null,
            "margin": null,
            "display": null,
            "left": null
          }
        },
        "bcaabffcc589431c8cedc3f1749da8b9": {
          "model_module": "@jupyter-widgets/controls",
          "model_name": "FloatProgressModel",
          "state": {
            "_view_name": "ProgressView",
            "style": "IPY_MODEL_559776b9d37544d0b0045338e3e522e4",
            "_dom_classes": [],
            "description": "",
            "_model_name": "FloatProgressModel",
            "bar_style": "success",
            "max": 1,
            "_view_module": "@jupyter-widgets/controls",
            "_model_module_version": "1.5.0",
            "value": 1,
            "_view_count": null,
            "_view_module_version": "1.5.0",
            "orientation": "horizontal",
            "min": 0,
            "description_tooltip": null,
            "_model_module": "@jupyter-widgets/controls",
            "layout": "IPY_MODEL_78e3fb7a90374fc7bf08a0acb7aa157c"
          }
        },
        "d80dd591ed1446a9bc9da92067654fd4": {
          "model_module": "@jupyter-widgets/controls",
          "model_name": "HTMLModel",
          "state": {
            "_view_name": "HTMLView",
            "style": "IPY_MODEL_fb667f60b0ef48fa908b2123b9159078",
            "_dom_classes": [],
            "description": "",
            "_model_name": "HTMLModel",
            "placeholder": "​",
            "_view_module": "@jupyter-widgets/controls",
            "_model_module_version": "1.5.0",
            "value": " 2745/? [00:09&lt;00:00, 285.89it/s]",
            "_view_count": null,
            "_view_module_version": "1.5.0",
            "description_tooltip": null,
            "_model_module": "@jupyter-widgets/controls",
            "layout": "IPY_MODEL_c195d7394d094387aecdb9d6259e0d9d"
          }
        },
        "559776b9d37544d0b0045338e3e522e4": {
          "model_module": "@jupyter-widgets/controls",
          "model_name": "ProgressStyleModel",
          "state": {
            "_view_name": "StyleView",
            "_model_name": "ProgressStyleModel",
            "description_width": "initial",
            "_view_module": "@jupyter-widgets/base",
            "_model_module_version": "1.5.0",
            "_view_count": null,
            "_view_module_version": "1.2.0",
            "bar_color": null,
            "_model_module": "@jupyter-widgets/controls"
          }
        },
        "78e3fb7a90374fc7bf08a0acb7aa157c": {
          "model_module": "@jupyter-widgets/base",
          "model_name": "LayoutModel",
          "state": {
            "_view_name": "LayoutView",
            "grid_template_rows": null,
            "right": null,
            "justify_content": null,
            "_view_module": "@jupyter-widgets/base",
            "overflow": null,
            "_model_module_version": "1.2.0",
            "_view_count": null,
            "flex_flow": null,
            "width": null,
            "min_width": null,
            "border": null,
            "align_items": null,
            "bottom": null,
            "_model_module": "@jupyter-widgets/base",
            "top": null,
            "grid_column": null,
            "overflow_y": null,
            "overflow_x": null,
            "grid_auto_flow": null,
            "grid_area": null,
            "grid_template_columns": null,
            "flex": null,
            "_model_name": "LayoutModel",
            "justify_items": null,
            "grid_row": null,
            "max_height": null,
            "align_content": null,
            "visibility": null,
            "align_self": null,
            "height": null,
            "min_height": null,
            "padding": null,
            "grid_auto_rows": null,
            "grid_gap": null,
            "max_width": null,
            "order": null,
            "_view_module_version": "1.2.0",
            "grid_template_areas": null,
            "object_position": null,
            "object_fit": null,
            "grid_auto_columns": null,
            "margin": null,
            "display": null,
            "left": null
          }
        },
        "fb667f60b0ef48fa908b2123b9159078": {
          "model_module": "@jupyter-widgets/controls",
          "model_name": "DescriptionStyleModel",
          "state": {
            "_view_name": "StyleView",
            "_model_name": "DescriptionStyleModel",
            "description_width": "",
            "_view_module": "@jupyter-widgets/base",
            "_model_module_version": "1.5.0",
            "_view_count": null,
            "_view_module_version": "1.2.0",
            "_model_module": "@jupyter-widgets/controls"
          }
        },
        "c195d7394d094387aecdb9d6259e0d9d": {
          "model_module": "@jupyter-widgets/base",
          "model_name": "LayoutModel",
          "state": {
            "_view_name": "LayoutView",
            "grid_template_rows": null,
            "right": null,
            "justify_content": null,
            "_view_module": "@jupyter-widgets/base",
            "overflow": null,
            "_model_module_version": "1.2.0",
            "_view_count": null,
            "flex_flow": null,
            "width": null,
            "min_width": null,
            "border": null,
            "align_items": null,
            "bottom": null,
            "_model_module": "@jupyter-widgets/base",
            "top": null,
            "grid_column": null,
            "overflow_y": null,
            "overflow_x": null,
            "grid_auto_flow": null,
            "grid_area": null,
            "grid_template_columns": null,
            "flex": null,
            "_model_name": "LayoutModel",
            "justify_items": null,
            "grid_row": null,
            "max_height": null,
            "align_content": null,
            "visibility": null,
            "align_self": null,
            "height": null,
            "min_height": null,
            "padding": null,
            "grid_auto_rows": null,
            "grid_gap": null,
            "max_width": null,
            "order": null,
            "_view_module_version": "1.2.0",
            "grid_template_areas": null,
            "object_position": null,
            "object_fit": null,
            "grid_auto_columns": null,
            "margin": null,
            "display": null,
            "left": null
          }
        }
      }
    }
  },
  "cells": [
    {
      "cell_type": "markdown",
      "metadata": {
        "id": "view-in-github",
        "colab_type": "text"
      },
      "source": [
        "<a href=\"https://colab.research.google.com/github/Ayukhoirunnisa/Belajar/blob/main/Bangkit.ipynb\" target=\"_parent\"><img src=\"https://colab.research.google.com/assets/colab-badge.svg\" alt=\"Open In Colab\"/></a>"
      ]
    },
    {
      "cell_type": "code",
      "metadata": {
        "id": "PbOLtO1WlmoX",
        "colab": {
          "base_uri": "https://localhost:8080/"
        },
        "outputId": "35a744b7-bdc7-490c-89a4-588615742f97"
      },
      "source": [
        "import zipfile\n"
        "import os\n"
        "dirName = '/content/KABAR'\n"
        "dirRaw = '/content/KABAR/data1'\n"
        "dirDataset = '/content/KABAR/dataset'\n"
        "os.mkdir(dirName)\n"
        "os.mkdir(dirRaw)\n"
        "os.mkdir(dirDataset)\n"

        "target = 'BANGKIT.zip'\n"
        "handle = zipfile.ZipFile(target)\n"
        "handlle.extractall('/content/KABAR/data1/')\n
        "handle.close()\n"
      ],
      "execution_count": null,
      "outputs": []
    },
    {
      "cell_type": "code",
      "metadata": {
        "id": "UjL9FrzBl3R4"
      },
      "source": [
        "import os"
      ],
      "execution_count": null,
      "outputs": []
    },
    {
      "cell_type": "code",
      "metadata": {
        "id": "53DvpTqSl53P"
      },
      "source": [
        "mypath= '/content/KABAR/data1/'"
      ],
      "execution_count": null,
      "outputs": []
    },
    {
      "cell_type": "code",
      "metadata": {
        "id": "gw5p04npl_0K"
      },
      "source": [
        "file_name = []\n",
        "tag = []\n",
        "full_path = []\n",
        "for path, subdirs, files in os.walk(mypath):\n",
        "    for name in files:\n",
        "        full_path.append(os.path.join(path, name)) \n",
        "        tag.append(path.split('/')[-1])        \n",
        "        file_name.append(name)"
      ],
      "execution_count": null,
      "outputs": []
    },
    {
      "cell_type": "code",
      "metadata": {
        "id": "cvWi1iqgmEN5",
        "colab": {
          "base_uri": "https://localhost:8080/",
          "height": 202
        },
        "outputId": "f8058bb7-fb4a-4bc3-df2a-1320886e66d8"
      },
      "source": [
        "import pandas as pd\n",
        "\n",
        "df = pd.DataFrame({\"path\":full_path,'file_name':file_name,\"tag\":tag})\n",
        "df.groupby(['tag']).size()\n",
        "df.head()\n",
        "\n"
      ],
      "execution_count": null,
      "outputs": [
        {
          "output_type": "execute_result",
          "data": {
            "text/html": [
              "<div>\n",
              "<style scoped>\n",
              "    .dataframe tbody tr th:only-of-type {\n",
              "        vertical-align: middle;\n",
              "    }\n",
              "\n",
              "    .dataframe tbody tr th {\n",
              "        vertical-align: top;\n",
              "    }\n",
              "\n",
              "    .dataframe thead th {\n",
              "        text-align: right;\n",
              "    }\n",
              "</style>\n",
              "<table border=\"1\" class=\"dataframe\">\n",
              "  <thead>\n",
              "    <tr style=\"text-align: right;\">\n",
              "      <th></th>\n",
              "      <th>path</th>\n",
              "      <th>file_name</th>\n",
              "      <th>tag</th>\n",
              "    </tr>\n",
              "  </thead>\n",
              "  <tbody>\n",
              "    <tr>\n",
              "      <th>0</th>\n",
              "      <td>BANGKIT2021/paper/paper449.jpg</td>\n",
              "      <td>paper449.jpg</td>\n",
              "      <td>paper</td>\n",
              "    </tr>\n",
              "    <tr>\n",
              "      <th>1</th>\n",
              "      <td>BANGKIT2021/paper/paper458.jpg</td>\n",
              "      <td>paper458.jpg</td>\n",
              "      <td>paper</td>\n",
              "    </tr>\n",
              "    <tr>\n",
              "      <th>2</th>\n",
              "      <td>BANGKIT2021/paper/paper192.jpg</td>\n",
              "      <td>paper192.jpg</td>\n",
              "      <td>paper</td>\n",
              "    </tr>\n",
              "    <tr>\n",
              "      <th>3</th>\n",
              "      <td>BANGKIT2021/paper/paper276.jpg</td>\n",
              "      <td>paper276.jpg</td>\n",
              "      <td>paper</td>\n",
              "    </tr>\n",
              "    <tr>\n",
              "      <th>4</th>\n",
              "      <td>BANGKIT2021/paper/paper195.jpg</td>\n",
              "      <td>paper195.jpg</td>\n",
              "      <td>paper</td>\n",
              "    </tr>\n",
              "  </tbody>\n",
              "</table>\n",
              "</div>"
            ],
            "text/plain": [
              "                             path     file_name    tag\n",
              "0  BANGKIT2021/paper/paper449.jpg  paper449.jpg  paper\n",
              "1  BANGKIT2021/paper/paper458.jpg  paper458.jpg  paper\n",
              "2  BANGKIT2021/paper/paper192.jpg  paper192.jpg  paper\n",
              "3  BANGKIT2021/paper/paper276.jpg  paper276.jpg  paper\n",
              "4  BANGKIT2021/paper/paper195.jpg  paper195.jpg  paper"
            ]
          },
          "metadata": {
            "tags": []
          },
          "execution_count": 5
        }
      ]
    },
    {
      "cell_type": "code",
      "metadata": {
        "id": "1NXkKpPMmUK_"
      },
      "source": [
        "from sklearn.model_selection import train_test_split\n",
        "\n",
        "#variabel yang digunakan pada pemisahan data ini\n",
        "X= df['path']\n",
        "y= df['tag']\n",
        "\n",
        "# split dataset awal menjadi data train dan test\n",
        "X_train, X_test, y_train, y_test = train_test_split(\n",
        "    X, y, test_size=0.20, random_state=300)\n",
        "\n",
        "# kemudian data test dibagi menjadi 2 sehingga menjadi data test dan data validation.\n",
        "X_test, X_val, y_test, y_val = train_test_split(\n",
        "    X_test, y_test, test_size=0.5, random_state=100)\n",
        "\n",
        "# menyatukan kedalam masing-masing dataframe\n",
        "df_tr = pd.DataFrame({'path':X_train\n",
        "              ,'tag':y_train\n",
        "             ,'set':'train'})\n",
        "\n",
        "df_te = pd.DataFrame({'path':X_test\n",
        "              ,'tag':y_test\n",
        "             ,'set':'test'})\n",
        "\n",
        "df_val = pd.DataFrame({'path':X_val\n",
        "              ,'tag':y_val\n",
        "             ,'set':'validation'})\n",
        "\n",
        "df_all = df_tr.append([df_te,df_val]).reset_index(drop=1)\\"
      ],
      "execution_count": null,
      "outputs": []
    },
    {
      "cell_type": "code",
      "metadata": {
        "id": "xomW2VSLmv69",
        "colab": {
          "base_uri": "https://localhost:8080/",
          "height": 67,
          "referenced_widgets": [
            "2d480541ff884f6c8ab7d61711f437ce",
            "3816a990aa2e464ebc361579b5c84026",
            "bcaabffcc589431c8cedc3f1749da8b9",
            "d80dd591ed1446a9bc9da92067654fd4",
            "559776b9d37544d0b0045338e3e522e4",
            "78e3fb7a90374fc7bf08a0acb7aa157c",
            "fb667f60b0ef48fa908b2123b9159078",
            "c195d7394d094387aecdb9d6259e0d9d"
          ]
        },
        "outputId": "f766189a-5b53-4304-a331-e55eb77de2ed"
      },
      "source": [
        "import shutil\n",
        "from tqdm.notebook import tqdm as tq\n",
        "\n",
        "datasource_path = \"/content/KABAR/data1/\"\n",
        "dataset_path = \"/content/KABAR/dataset/\"\n",
        "for index, row in tq(df_all.iterrows()):\n",
        "    \n",
        "    #detect filepath\n",
        "    file_path = row['path']\n",
        "    if os.path.exists(file_path) == False:\n",
        "            file_path = os.path.join(datasource_path,row['tag'],row['image'].split('.')[0])            \n",
        "    \n",
        "    #make folder destination dirs\n",
        "    if os.path.exists(os.path.join(dataset_path,row['set'],row['tag'])) == False:\n",
        "        os.makedirs(os.path.join(dataset_path,row['set'],row['tag']))\n",
        "    \n",
        "    #define file dest\n",
        "    destination_file_name = file_path.split('/')[-1]\n",
        "    file_dest = os.path.join(dataset_path,row['set'],row['tag'],destination_file_name)\n",
        "    \n",
        "    #copy file from source to dest\n",
        "    if os.path.exists(file_dest) == False:\n",
        "        shutil.copy2(file_path,file_dest)"
      ],
      "execution_count": null,
      "outputs": [
        {
          "output_type": "display_data",
          "data": {
            "application/vnd.jupyter.widget-view+json": {
              "model_id": "2d480541ff884f6c8ab7d61711f437ce",
              "version_minor": 0,
              "version_major": 2
            },
            "text/plain": [
              "HBox(children=(FloatProgress(value=1.0, bar_style='info', max=1.0), HTML(value='')))"
            ]
          },
          "metadata": {
            "tags": []
          }
        },
        {
          "output_type": "stream",
          "text": [
            "\n"
          ],
          "name": "stdout"
        }
      ]
    },
    {
      "cell_type": "code",
      "metadata": {
        "id": "HRTwNYnWm1Ve"
      },
      "source": [
        "import tensorflow as tf"
      ],
      "execution_count": null,
      "outputs": []
    },
    {
      "cell_type": "code",
      "metadata": {
        "id": "Ba1_h__-nD1W"
      },
      "source": [
        "# Define Input Parameters\n",
        "dim = (150, 150)\n",
        "# dim = (15, 15)\n",
        "channel = (3, )\n",
        "input_shape = dim + channel\n",
        "\n",
        "#batch size\n",
        "batch_size = 16\n",
        "\n",
        "#Epoch\n",
        "epoch = 10"
      ],
      "execution_count": null,
      "outputs": []
    },
    {
      "cell_type": "code",
      "metadata": {
        "id": "NSV70JybnGcf",
        "colab": {
          "base_uri": "https://localhost:8080/"
        },
        "outputId": "ae4df065-05a0-4802-99c8-7530c265adcc"
      },
      "source": [
        "from tensorflow.keras.preprocessing.image import ImageDataGenerator\n",
        "\n",
        "train_datagen = ImageDataGenerator(rescale=1. / 255,\n",
        "                                   shear_range=0.2,\n",
        "                                   zoom_range=0.2,\n",
        "                                   horizontal_flip=True)\n",
        "\n",
        "val_datagen = ImageDataGenerator(rescale=1. / 255,\n",
        "                                 shear_range=0.2,\n",
        "                                 zoom_range=0.2,\n",
        "                                 horizontal_flip=True)\n",
        "\n",
        "test_datagen = ImageDataGenerator(rescale=1. / 255,\n",
        "                                  shear_range=0.2,\n",
        "                                  zoom_range=0.2,\n",
        "                                  horizontal_flip=True)\n",
        "\n",
        "train_generator = train_datagen.flow_from_directory('dataset/train/',\n",
        "                                                    target_size=dim,\n",
        "                                                    batch_size=batch_size,\n",
        "                                                    class_mode='categorical',\n",
        "                                                    shuffle=True)\n",
        "\n",
        "val_generator = val_datagen.flow_from_directory('dataset/validation/',\n",
        "                                                target_size=dim,\n",
        "                                                batch_size=batch_size,\n",
        "                                                class_mode='categorical',\n",
        "                                                shuffle=True)\n",
        "\n",
        "test_generator = test_datagen.flow_from_directory('dataset/test/',\n",
        "                                                  target_size=dim,\n",
        "                                                  batch_size=batch_size,\n",
        "                                                  class_mode='categorical',\n",
        "                                                  shuffle=True)\n",
        "\n",
        "num_class = test_generator.num_classes\n",
        "labels = train_generator.class_indices.keys()"
      ],
      "execution_count": null,
      "outputs": [
        {
          "output_type": "stream",
          "text": [
            "Found 2196 images belonging to 5 classes.\n",
            "Found 275 images belonging to 5 classes.\n",
            "Found 274 images belonging to 5 classes.\n"
          ],
          "name": "stdout"
        }
      ]
    },
    {
      "cell_type": "code",
      "metadata": {
        "id": "wKVYHu3xSfXP",
        "colab": {
          "base_uri": "https://localhost:8080/"
        },
        "outputId": "8278071f-41ef-41e6-bd34-89b79addd78f"
      },
      "source": [
        "print(labels)"
      ],
      "execution_count": null,
      "outputs": [
        {
          "output_type": "stream",
          "text": [
            "dict_keys(['cardboard', 'glass', 'metal', 'paper', 'plastic'])\n"
          ],
          "name": "stdout"
        }
      ]
    },
    {
      "cell_type": "code",
      "metadata": {
        "id": "DZZXUcOwnY1S"
      },
      "source": [
        "def tf_data_generator(generator, input_shape):\n",
        "    num_class = generator.num_classes\n",
        "    tf_generator = tf.data.Dataset.from_generator(\n",
        "        lambda: generator,\n",
        "        output_types=(tf.float32, tf.float32),\n",
        "        output_shapes=([None\n",
        "                        , input_shape[0]\n",
        "                        , input_shape[1]\n",
        "                        , input_shape[2]]\n",
        "                       ,[None, num_class])\n",
        "    )\n",
        "    return tf_generator\n",
        "train_data = tf_data_generator(train_generator, input_shape)\n",
        "test_data = tf_data_generator(test_generator, input_shape)\n",
        "val_data = tf_data_generator(val_generator, input_shape)"
      ],
      "execution_count": null,
      "outputs": []
    },
    {
      "cell_type": "code",
      "metadata": {
        "id": "9lAL8IUhnZjp",
        "colab": {
          "base_uri": "https://localhost:8080/"
        },
        "outputId": "83927ec3-d83b-4178-f75d-1799dc976d03"
      },
      "source": [
        "from tensorflow.keras.applications import MobileNetV2\n",
        "\n",
        "# get base models\n",
        "base_model = MobileNetV2(\n",
        "    input_shape=input_shape,\n",
        "    include_top=False,\n",
        "    weights='imagenet',\n",
        "    classes=num_class,\n",
        ")"
      ],
      "execution_count": null,
      "outputs": [
        {
          "output_type": "stream",
          "text": [
            "WARNING:tensorflow:`input_shape` is undefined or non-square, or `rows` is not in [96, 128, 160, 192, 224]. Weights for input shape (224, 224) will be loaded as the default.\n"
          ],
          "name": "stdout"
        }
      ]
    },
    {
      "cell_type": "code",
      "metadata": {
        "id": "L_njjKcOnq3m"
      },
      "source": [
        "from tensorflow.keras import layers,Sequential\n",
        "from tensorflow.keras.models import Model\n",
        "\n",
        "#Adding custom layers\n",
        "x = base_model.output\n",
        "x = layers.GlobalAveragePooling2D()(x)\n",
        "x = layers.Dropout(0.2)(x)\n",
        "x = layers.Dense(1024, activation=\"relu\")(x)\n",
        "\n",
        "predictions = layers.Dense(num_class, activation=\"softmax\")(x)\n",
        "model = Model(inputs=base_model.input, outputs=predictions)\n",
        "\n",
        "model.compile(optimizer='adam',\n",
        "              loss='categorical_crossentropy',\n",
        "              metrics=['accuracy'])"
      ],
      "execution_count": null,
      "outputs": []
    },
    {
      "cell_type": "code",
      "metadata": {
        "id": "jW3Hs8ojoCqH"
      },
      "source": [
        ""
      ],
      "execution_count": null,
      "outputs": []
    },
    {
      "cell_type": "code",
      "metadata": {
        "id": "DqzlvgUcny3f"
      },
      "source": [
        "model_viz = tf.keras.utils.plot_model(model,\n",
        "                          to_file='model.png',\n",
        "                          show_shapes=True,\n",
        "                          show_layer_names=True,\n",
        "                          rankdir='TB',\n",
        "                          expand_nested=True,\n",
        "                          dpi=55)"
      ],
      "execution_count": null,
      "outputs": []
    },
    {
      "cell_type": "code",
      "metadata": {
        "id": "PPuc3W6JoQjQ",
        "colab": {
          "base_uri": "https://localhost:8080/"
        },
        "outputId": "19b26256-1a85-4380-ebbb-3addc5cf8fed"
      },
      "source": [
        "EPOCH = 5\n",
        "history = model.fit(x=train_data,\n",
        "        steps_per_epoch=len(train_generator),\n",
        "        epochs=EPOCH,\n",
        "        validation_data=val_data,\n",
        "        validation_steps=len(val_generator),\n",
        "        shuffle=True,\n",
        "        verbose = 1)"
      ],
      "execution_count": null,
      "outputs": [
        {
          "output_type": "stream",
          "text": [
            "Epoch 1/5\n",
            " 16/138 [==>...........................] - ETA: 8:08 - loss: 2.2624 - accuracy: 0.3728"
          ],
          "name": "stdout"
        }
      ]
    },
    {
      "cell_type": "code",
      "metadata": {
        "id": "8r-jIigwB-v_"
      },
      "source": [
        "import requests\n",
        "from io import BytesIO\n",
        "from PIL import Image\n",
        "import numpy as np\n",
        "from google.colab import files\n",
        "from keras.preprocessing import image\n",
        "\n",
        "uploaded = files.upload()\n",
        "\n",
        "#Parameters\n",
        "input_size = (150,150)\n",
        "\n",
        "#define input shape\n",
        "channel = (3,)\n",
        "input_shape = input_size + channel\n",
        "\n",
        "#define labels\n",
        "labels = ['cardboard', 'glass', 'metal', 'paper', 'plastic']\n",
        "\n",
        "def preprocess(img,input_size):\n",
        "    nimg = img.convert('RGB').resize(input_size, resample= 0)\n",
        "    img_arr = (np.array(nimg))/255\n",
        "    return img_arr\n",
        "\n",
        "def reshape(imgs_arr):\n",
        "    return np.stack(imgs_arr, axis=0)\n",
        "\n",
        "for fn in uploaded.keys():\n",
        "  # predicting images\n",
        "  path = '/content/' + fn\n",
        "  im = Image.open(path)\n",
        "  X = preprocess(im,input_size)\n",
        "  X = reshape([X])\n",
        "  y = model.predict(X)\n",
        "  result = labels[np.argmax(y)]\n",
        "  print(result)"
      ],
      "execution_count": null,
      "outputs": []
    },
    {
      "cell_type": "code",
      "metadata": {
        "id": "hibsJC51Xsg9"
      },
      "source": [
        "search = print('DIY from ' + result)"
      ],
      "execution_count": null,
      "outputs": []
    }
  ]
}
